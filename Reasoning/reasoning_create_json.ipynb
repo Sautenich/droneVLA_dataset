{
 "cells": [
  {
   "cell_type": "markdown",
   "metadata": {},
   "source": [
    "#### Create .json with dishes"
   ]
  },
  {
   "cell_type": "code",
   "execution_count": null,
   "metadata": {},
   "outputs": [
    {
     "name": "stdout",
     "output_type": "stream",
     "text": [
      "Healthy samples: ['Food/Healthy\\\\healthy_1.jpg', 'Food/Healthy\\\\healthy_10.jpg', 'Food/Healthy\\\\healthy_11.jpg', 'Food/Healthy\\\\healthy_12.jpg', 'Food/Healthy\\\\healthy_13.jpg', 'Food/Healthy\\\\healthy_14.jpg', 'Food/Healthy\\\\healthy_15.jpg', 'Food/Healthy\\\\healthy_16.jpg', 'Food/Healthy\\\\healthy_17.jpg', 'Food/Healthy\\\\healthy_18.jpg', 'Food/Healthy\\\\healthy_19.jpg', 'Food/Healthy\\\\healthy_2.jpg', 'Food/Healthy\\\\healthy_20.jpeg', 'Food/Healthy\\\\healthy_3.jpeg', 'Food/Healthy\\\\healthy_4.png', 'Food/Healthy\\\\healthy_5.jpg', 'Food/Healthy\\\\healthy_6.jpg', 'Food/Healthy\\\\healthy_7.png', 'Food/Healthy\\\\healthy_8.jpg', 'Food/Healthy\\\\healthy_9.jpg']\n",
      "Unhealthy samples: ['Food/Unhealthy\\\\unhealthy_1.jpg', 'Food/Unhealthy\\\\unhealthy_10.jpg', 'Food/Unhealthy\\\\unhealthy_11.png', 'Food/Unhealthy\\\\unhealthy_12.jpeg', 'Food/Unhealthy\\\\unhealthy_13.jpg', 'Food/Unhealthy\\\\unhealthy_14.jpeg', 'Food/Unhealthy\\\\unhealthy_15.jpg', 'Food/Unhealthy\\\\unhealthy_16.jpg', 'Food/Unhealthy\\\\unhealthy_17.jpg', 'Food/Unhealthy\\\\unhealthy_18.jpg', 'Food/Unhealthy\\\\unhealthy_19.jpeg', 'Food/Unhealthy\\\\unhealthy_2.jpg', 'Food/Unhealthy\\\\unhealthy_20.jpeg', 'Food/Unhealthy\\\\unhealthy_3.jpeg', 'Food/Unhealthy\\\\unhealthy_4.jpg', 'Food/Unhealthy\\\\unhealthy_5.jpg', 'Food/Unhealthy\\\\unhealthy_6.jpg', 'Food/Unhealthy\\\\unhealthy_7.jpg', 'Food/Unhealthy\\\\unhealthy_8.jpg', 'Food/Unhealthy\\\\unhealthy_9.jpeg']\n"
     ]
    }
   ],
   "source": [
    "import os\n",
    "healthy_samples = [os.path.join('Food/Healthy', f) for f in os.listdir('Food/Healthy') if f.lower().endswith(('png', 'jpg', 'jpeg'))]\n",
    "unhealthy_samples = [os.path.join('Food/Unhealthy', f) for f in os.listdir('/Food/Unhealthy') if f.lower().endswith(('png', 'jpg', 'jpeg'))]\n",
    "\n",
    "print(\"Healthy samples:\", healthy_samples)\n",
    "print(\"Unhealthy samples:\", unhealthy_samples)"
   ]
  },
  {
   "cell_type": "code",
   "execution_count": 25,
   "metadata": {},
   "outputs": [],
   "source": [
    "import os\n",
    "import random\n",
    "import json\n",
    "\n",
    "def create_food_dataset(healthy_folder, unhealthy_folder, output_file):\n",
    "    healthy_images = [img for img in os.listdir(healthy_folder) if img.lower().endswith(('png', 'jpg', 'jpeg'))]\n",
    "    unhealthy_images = [img for img in os.listdir(unhealthy_folder) if img.lower().endswith(('png', 'jpg', 'jpeg'))]\n",
    "    dataset = []\n",
    "\n",
    "    for img in healthy_images:\n",
    "        name = os.path.splitext(img)[0].replace('_', ' ')  # Extract the name without extension and replace underscores with spaces\n",
    "        prompt = f\"Fly to the gate with the healthy food.\"\n",
    "\n",
    "        # Select two random unhealthy images\n",
    "        choices = [os.path.join('/', healthy_folder.replace('\\\\', '/'), img)] + random.sample([os.path.join('/', unhealthy_folder.replace('\\\\', '/'), i) for i in unhealthy_images], 2)\n",
    "        random.shuffle(choices)\n",
    "        correct_index = choices.index(os.path.join('/', healthy_folder.replace('\\\\', '/'), img)) + 1  # Indexing starts from 1\n",
    "\n",
    "        # Replace backslashes with forward slashes in the choices\n",
    "        choices = [choice.replace('\\\\', '/') for choice in choices]\n",
    "\n",
    "        dataset.append({\n",
    "            \"prompt\": prompt,\n",
    "            \"options\": choices,\n",
    "            \"correct\": correct_index\n",
    "        })\n",
    "\n",
    "    with open(output_file, \"w\", encoding=\"utf-8\") as f:\n",
    "        json.dump(dataset, f, indent=4, ensure_ascii=False)\n",
    "\n",
    "create_food_dataset('Food/Healthy', 'Food/Unhealthy', \"healthy_food_dataset.json\")"
   ]
  },
  {
   "cell_type": "code",
   "execution_count": null,
   "metadata": {},
   "outputs": [],
   "source": []
  }
 ],
 "metadata": {
  "kernelspec": {
   "display_name": "Python 3",
   "language": "python",
   "name": "python3"
  },
  "language_info": {
   "codemirror_mode": {
    "name": "ipython",
    "version": 3
   },
   "file_extension": ".py",
   "mimetype": "text/x-python",
   "name": "python",
   "nbconvert_exporter": "python",
   "pygments_lexer": "ipython3",
   "version": "3.11.9"
  }
 },
 "nbformat": 4,
 "nbformat_minor": 2
}
