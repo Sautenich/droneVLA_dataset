{
 "cells": [
  {
   "cell_type": "markdown",
   "metadata": {},
   "source": [
    "#### Create .json with celebs"
   ]
  },
  {
   "cell_type": "code",
   "execution_count": 44,
   "metadata": {},
   "outputs": [],
   "source": [
    "import os\n",
    "import json\n",
    "import random\n",
    "\n",
    "def create_dataset(folder_path, output_file):\n",
    "    images = [img for img in os.listdir(folder_path) if img.lower().endswith(('png', 'jpg', 'jpeg'))]\n",
    "    dataset = []\n",
    "    \n",
    "    for img in images:\n",
    "        name = os.path.splitext(img)[0].replace('_', ' ')  # Replace underscores with spaces\n",
    "        prompt = f\"Fly through the gate with {name}\"\n",
    "        \n",
    "        # Choose two random names that are not the current one\n",
    "        choices = [img.replace('_', '_')] + random.sample([i.replace('_', '_') for i in images if i != img], 2)\n",
    "        random.shuffle(choices)\n",
    "        correct_index = choices.index(img.replace('_', '_')) + 1  # Indexing starts from 1\n",
    "        \n",
    "        dataset.append({\n",
    "            \"prompt\": prompt,\n",
    "            \"options\": choices,\n",
    "            \"correct\": correct_index\n",
    "        })\n",
    "    \n",
    "    with open(output_file, \"w\", encoding=\"utf-8\") as f:\n",
    "        json.dump(dataset, f, indent=4, ensure_ascii=False)\n",
    "\n",
    "create_dataset(\"Celebrities\", \"hr_celeb_dataset.json\")"
   ]
  },
  {
   "cell_type": "markdown",
   "metadata": {},
   "source": [
    "#### Rename Patterns/Attributes"
   ]
  },
  {
   "cell_type": "code",
   "execution_count": 34,
   "metadata": {},
   "outputs": [],
   "source": [
    "import os\n",
    "from PIL import Image\n",
    "\n",
    "patterns_folder = 'Patterns/Attributes'\n",
    "output_folder = 'Renamed_Patterns'\n",
    "\n",
    "if not os.path.exists(output_folder):\n",
    "    os.makedirs(output_folder)\n",
    "\n",
    "for filename in os.listdir(patterns_folder):\n",
    "    if filename.lower().endswith(('png', 'jpg', 'jpeg')):\n",
    "        new_filename = filename.replace('with_', '').replace('in_', '')\n",
    "        img = Image.open(os.path.join(patterns_folder, filename))\n",
    "        img.save(os.path.join(output_folder, new_filename))"
   ]
  },
  {
   "cell_type": "markdown",
   "metadata": {},
   "source": [
    "#### Create .json with patterns"
   ]
  },
  {
   "cell_type": "code",
   "execution_count": 43,
   "metadata": {},
   "outputs": [],
   "source": [
    "def create_dataset(folder_path, output_file):\n",
    "    images = [img for img in os.listdir(folder_path) if img.lower().endswith(('png', 'jpg', 'jpeg'))]\n",
    "    dataset = []\n",
    "    \n",
    "    for img in images:\n",
    "        name = os.path.splitext(img)[0].replace('_', ' ')  # Extract the name without extension and replace underscores with spaces\n",
    "        prompt = f\"Fly through the gate with a person with {name}\"\n",
    "        \n",
    "        # Select two random names that do not match the current one\n",
    "        choices = [img.replace('_', '_')] + random.sample([i.replace('_', '_') for i in images if i != img], 2)\n",
    "        random.shuffle(choices)\n",
    "        correct_index = choices.index(img.replace('_', '_')) + 1  # Indexing starts from 1\n",
    "        \n",
    "        dataset.append({\n",
    "            \"prompt\": prompt,\n",
    "            \"options\": choices,\n",
    "            \"correct\": correct_index\n",
    "        })\n",
    "    \n",
    "    with open(output_file, \"w\", encoding=\"utf-8\") as f:\n",
    "        json.dump(dataset, f, indent=4, ensure_ascii=False)\n",
    "        \n",
    "create_dataset('Renamed_Patterns\\Attributes', \"hr_patterns_attributes_dataset.json\")\n"
   ]
  }
 ],
 "metadata": {
  "kernelspec": {
   "display_name": "Python 3",
   "language": "python",
   "name": "python3"
  },
  "language_info": {
   "codemirror_mode": {
    "name": "ipython",
    "version": 3
   },
   "file_extension": ".py",
   "mimetype": "text/x-python",
   "name": "python",
   "nbconvert_exporter": "python",
   "pygments_lexer": "ipython3",
   "version": "3.11.9"
  }
 },
 "nbformat": 4,
 "nbformat_minor": 2
}
